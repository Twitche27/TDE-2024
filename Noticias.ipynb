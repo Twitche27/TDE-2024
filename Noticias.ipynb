{
 "cells": [
  {
   "cell_type": "code",
   "execution_count": 2,
   "metadata": {},
   "outputs": [],
   "source": [
    "import pandas as pd\n",
    "from DriverClass import DriverNoticias"
   ]
  },
  {
   "cell_type": "code",
   "execution_count": 11,
   "metadata": {},
   "outputs": [],
   "source": [
    "drivernoticias = DriverNoticias()\n",
    "anos: list[str] = [\"2014\", \"2015\", \"2016\",\"2017\", \"2018\", \"2019\", \"2020\", \"2021\"]\n",
    "noticias_anos: list[dict[str, float]] = [drivernoticias.access_ibge_noticias(ano) for ano in anos]\n",
    "drivernoticias.d_noticias.driver.close()\n",
    "noticias = pd.DataFrame(noticias_anos, index=anos)\n",
    "noticias.columns = noticias.columns.str.strip()\n",
    "colunas_originais = noticias.columns\n",
    "noticias = noticias.T.groupby(noticias.columns).sum()\n",
    "noticias = noticias.T\n",
    "noticias = noticias[colunas_originais.unique()]\n",
    "noticias.to_csv('Rendimento nominal mensal domiciliar per capita da população residente, por UFs.csv', index=True)"
   ]
  }
 ],
 "metadata": {
  "kernelspec": {
   "display_name": "Python 3",
   "language": "python",
   "name": "python3"
  },
  "language_info": {
   "codemirror_mode": {
    "name": "ipython",
    "version": 3
   },
   "file_extension": ".py",
   "mimetype": "text/x-python",
   "name": "python",
   "nbconvert_exporter": "python",
   "pygments_lexer": "ipython3",
   "version": "3.12.2"
  }
 },
 "nbformat": 4,
 "nbformat_minor": 2
}
