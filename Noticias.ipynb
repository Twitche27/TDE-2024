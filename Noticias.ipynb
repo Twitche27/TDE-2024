{
 "cells": [
  {
   "cell_type": "code",
   "execution_count": 2,
   "metadata": {},
   "outputs": [],
   "source": [
    "import pandas as pd\n",
    "from DriverClass import DriverNoticias"
   ]
  },
  {
   "cell_type": "code",
   "execution_count": 6,
   "metadata": {},
   "outputs": [
    {
     "ename": "AttributeError",
     "evalue": "'DriverNoticias' object has no attribute '_DriverNoticias__driver'",
     "output_type": "error",
     "traceback": [
      "\u001b[1;31m---------------------------------------------------------------------------\u001b[0m",
      "\u001b[1;31mAttributeError\u001b[0m                            Traceback (most recent call last)",
      "Cell \u001b[1;32mIn[6], line 3\u001b[0m\n\u001b[0;32m      1\u001b[0m drivernoticias \u001b[38;5;241m=\u001b[39m DriverNoticias()\n\u001b[0;32m      2\u001b[0m anos: \u001b[38;5;28mlist\u001b[39m[\u001b[38;5;28mstr\u001b[39m] \u001b[38;5;241m=\u001b[39m [\u001b[38;5;124m\"\u001b[39m\u001b[38;5;124m2014\u001b[39m\u001b[38;5;124m\"\u001b[39m, \u001b[38;5;124m\"\u001b[39m\u001b[38;5;124m2015\u001b[39m\u001b[38;5;124m\"\u001b[39m, \u001b[38;5;124m\"\u001b[39m\u001b[38;5;124m2016\u001b[39m\u001b[38;5;124m\"\u001b[39m,\u001b[38;5;124m\"\u001b[39m\u001b[38;5;124m2017\u001b[39m\u001b[38;5;124m\"\u001b[39m, \u001b[38;5;124m\"\u001b[39m\u001b[38;5;124m2018\u001b[39m\u001b[38;5;124m\"\u001b[39m, \u001b[38;5;124m\"\u001b[39m\u001b[38;5;124m2019\u001b[39m\u001b[38;5;124m\"\u001b[39m, \u001b[38;5;124m\"\u001b[39m\u001b[38;5;124m2020\u001b[39m\u001b[38;5;124m\"\u001b[39m, \u001b[38;5;124m\"\u001b[39m\u001b[38;5;124m2021\u001b[39m\u001b[38;5;124m\"\u001b[39m]\n\u001b[1;32m----> 3\u001b[0m noticias_anos: \u001b[38;5;28mlist\u001b[39m[\u001b[38;5;28mdict\u001b[39m[\u001b[38;5;28mstr\u001b[39m, \u001b[38;5;28mfloat\u001b[39m]] \u001b[38;5;241m=\u001b[39m [\u001b[43mdrivernoticias\u001b[49m\u001b[38;5;241;43m.\u001b[39;49m\u001b[43maccess_ibge_noticias\u001b[49m\u001b[43m(\u001b[49m\u001b[43mano\u001b[49m\u001b[43m)\u001b[49m \u001b[38;5;28;01mfor\u001b[39;00m ano \u001b[38;5;129;01min\u001b[39;00m anos]\n\u001b[0;32m      4\u001b[0m drivernoticias\u001b[38;5;241m.\u001b[39mdriver\u001b[38;5;241m.\u001b[39mclose()\n\u001b[0;32m      5\u001b[0m noticias \u001b[38;5;241m=\u001b[39m pd\u001b[38;5;241m.\u001b[39mDataFrame(noticias_anos, index\u001b[38;5;241m=\u001b[39manos)\n",
      "File \u001b[1;32mc:\\Users\\mateu\\Desktop\\TDE-2024\\DriverClass.py:100\u001b[0m, in \u001b[0;36mDriverNoticias.access_ibge_noticias\u001b[1;34m(self, ano)\u001b[0m\n\u001b[0;32m     98\u001b[0m     \u001b[38;5;28;01mreturn\u001b[39;00m \u001b[38;5;28;01mNone\u001b[39;00m\n\u001b[0;32m     99\u001b[0m \u001b[38;5;28;01mfinally\u001b[39;00m:\n\u001b[1;32m--> 100\u001b[0m     \u001b[38;5;28;43mself\u001b[39;49m\u001b[38;5;241;43m.\u001b[39;49m\u001b[43m__driver\u001b[49m\u001b[38;5;241m.\u001b[39mclose()\n",
      "\u001b[1;31mAttributeError\u001b[0m: 'DriverNoticias' object has no attribute '_DriverNoticias__driver'"
     ]
    }
   ],
   "source": [
    "drivernoticias = DriverNoticias()\n",
    "anos: list[str] = [\"2014\", \"2015\", \"2016\",\"2017\", \"2018\", \"2019\", \"2020\", \"2021\"]\n",
    "noticias_anos: list[dict[str, float]] = [drivernoticias.access_ibge_noticias(ano) for ano in anos]\n",
    "drivernoticias.driver.close()\n",
    "noticias = pd.DataFrame(noticias_anos, index=anos)\n",
    "noticias"
   ]
  }
 ],
 "metadata": {
  "kernelspec": {
   "display_name": "Python 3",
   "language": "python",
   "name": "python3"
  },
  "language_info": {
   "codemirror_mode": {
    "name": "ipython",
    "version": 3
   },
   "file_extension": ".py",
   "mimetype": "text/x-python",
   "name": "python",
   "nbconvert_exporter": "python",
   "pygments_lexer": "ipython3",
   "version": "3.12.2"
  }
 },
 "nbformat": 4,
 "nbformat_minor": 2
}
