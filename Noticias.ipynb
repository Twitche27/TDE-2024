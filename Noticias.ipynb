{
 "cells": [
  {
   "cell_type": "code",
   "execution_count": 10,
   "metadata": {},
   "outputs": [],
   "source": [
    "import pandas as pd\n",
    "from DriverClass import Driver"
   ]
  },
  {
   "cell_type": "code",
   "execution_count": 11,
   "metadata": {},
   "outputs": [
    {
     "ename": "AttributeError",
     "evalue": "'Driver' object has no attribute 'access_ibge_noticias'",
     "output_type": "error",
     "traceback": [
      "\u001b[1;31m---------------------------------------------------------------------------\u001b[0m",
      "\u001b[1;31mAttributeError\u001b[0m                            Traceback (most recent call last)",
      "Cell \u001b[1;32mIn[11], line 3\u001b[0m\n\u001b[0;32m      1\u001b[0m drivernoticias \u001b[38;5;241m=\u001b[39m Driver()\n\u001b[0;32m      2\u001b[0m anos: \u001b[38;5;28mlist\u001b[39m[\u001b[38;5;28mstr\u001b[39m] \u001b[38;5;241m=\u001b[39m [\u001b[38;5;124m\"\u001b[39m\u001b[38;5;124m2014\u001b[39m\u001b[38;5;124m\"\u001b[39m, \u001b[38;5;124m\"\u001b[39m\u001b[38;5;124m2015\u001b[39m\u001b[38;5;124m\"\u001b[39m, \u001b[38;5;124m\"\u001b[39m\u001b[38;5;124m2016\u001b[39m\u001b[38;5;124m\"\u001b[39m,\u001b[38;5;124m\"\u001b[39m\u001b[38;5;124m2017\u001b[39m\u001b[38;5;124m\"\u001b[39m, \u001b[38;5;124m\"\u001b[39m\u001b[38;5;124m2018\u001b[39m\u001b[38;5;124m\"\u001b[39m, \u001b[38;5;124m\"\u001b[39m\u001b[38;5;124m2019\u001b[39m\u001b[38;5;124m\"\u001b[39m, \u001b[38;5;124m\"\u001b[39m\u001b[38;5;124m2020\u001b[39m\u001b[38;5;124m\"\u001b[39m, \u001b[38;5;124m\"\u001b[39m\u001b[38;5;124m2021\u001b[39m\u001b[38;5;124m\"\u001b[39m]\n\u001b[1;32m----> 3\u001b[0m noticias_anos: \u001b[38;5;28mlist\u001b[39m[\u001b[38;5;28mdict\u001b[39m[\u001b[38;5;28mstr\u001b[39m, \u001b[38;5;28mfloat\u001b[39m]] \u001b[38;5;241m=\u001b[39m [\u001b[43mdrivernoticias\u001b[49m\u001b[38;5;241;43m.\u001b[39;49m\u001b[43maccess_ibge_noticias\u001b[49m(ano) \u001b[38;5;28;01mfor\u001b[39;00m ano \u001b[38;5;129;01min\u001b[39;00m anos]\n\u001b[0;32m      4\u001b[0m drivernoticias\u001b[38;5;241m.\u001b[39mdriver\u001b[38;5;241m.\u001b[39mquit()\n\u001b[0;32m      5\u001b[0m noticias \u001b[38;5;241m=\u001b[39m pd\u001b[38;5;241m.\u001b[39mDataFrame(noticias_anos, index\u001b[38;5;241m=\u001b[39manos)\n",
      "\u001b[1;31mAttributeError\u001b[0m: 'Driver' object has no attribute 'access_ibge_noticias'"
     ]
    }
   ],
   "source": [
    "drivernoticias = Driver()\n",
    "anos: list[str] = [\"2014\", \"2015\", \"2016\",\"2017\", \"2018\", \"2019\", \"2020\", \"2021\"]\n",
    "noticias_anos: list[dict[str, float]] = [drivernoticias.access_ibge_noticias(ano) for ano in anos]\n",
    "drivernoticias.driver.quit()\n",
    "noticias = pd.DataFrame(noticias_anos, index=anos)\n",
    "noticias.columns = noticias.columns.str.strip()\n",
    "colunas_originais = noticias.columns\n",
    "noticias = noticias.T.groupby(noticias.columns).sum()\n",
    "noticias = noticias.T\n",
    "noticias = noticias[colunas_originais.unique()]\n",
    "noticias.T.to_csv('Rendimento nominal mensal domiciliar per capita da população residente, por UFs.csv', index=True)"
   ]
  },
  {
   "cell_type": "code",
   "execution_count": 3,
   "metadata": {},
   "outputs": [
    {
     "ename": "NameError",
     "evalue": "name 'noticias' is not defined",
     "output_type": "error",
     "traceback": [
      "\u001b[1;31m---------------------------------------------------------------------------\u001b[0m",
      "\u001b[1;31mNameError\u001b[0m                                 Traceback (most recent call last)",
      "Cell \u001b[1;32mIn[3], line 1\u001b[0m\n\u001b[1;32m----> 1\u001b[0m \u001b[43mnoticias\u001b[49m\u001b[38;5;241m.\u001b[39mT\n",
      "\u001b[1;31mNameError\u001b[0m: name 'noticias' is not defined"
     ]
    }
   ],
   "source": [
    "noticias.T"
   ]
  }
 ],
 "metadata": {
  "kernelspec": {
   "display_name": "Python 3",
   "language": "python",
   "name": "python3"
  },
  "language_info": {
   "codemirror_mode": {
    "name": "ipython",
    "version": 3
   },
   "file_extension": ".py",
   "mimetype": "text/x-python",
   "name": "python",
   "nbconvert_exporter": "python",
   "pygments_lexer": "ipython3",
   "version": "3.12.2"
  }
 },
 "nbformat": 4,
 "nbformat_minor": 2
}
