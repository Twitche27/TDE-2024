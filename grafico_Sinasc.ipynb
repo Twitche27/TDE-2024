{
 "cells": [
  {
   "cell_type": "code",
   "execution_count": 1,
   "metadata": {},
   "outputs": [],
   "source": [
    "import pandas as pd\n",
    "import os\n",
    "from glob import glob"
   ]
  },
  {
   "cell_type": "code",
   "execution_count": 82,
   "metadata": {},
   "outputs": [
    {
     "data": {
      "text/html": [
       "<div>\n",
       "<style scoped>\n",
       "    .dataframe tbody tr th:only-of-type {\n",
       "        vertical-align: middle;\n",
       "    }\n",
       "\n",
       "    .dataframe tbody tr th {\n",
       "        vertical-align: top;\n",
       "    }\n",
       "\n",
       "    .dataframe thead th {\n",
       "        text-align: right;\n",
       "    }\n",
       "</style>\n",
       "<table border=\"1\" class=\"dataframe\">\n",
       "  <thead>\n",
       "    <tr style=\"text-align: right;\">\n",
       "      <th></th>\n",
       "      <th>Menor de 10 anos</th>\n",
       "      <th>10 a 14 anos</th>\n",
       "      <th>15 a 19 anos</th>\n",
       "      <th>Total</th>\n",
       "    </tr>\n",
       "    <tr>\n",
       "      <th>Unidade da Federação</th>\n",
       "      <th></th>\n",
       "      <th></th>\n",
       "      <th></th>\n",
       "      <th></th>\n",
       "    </tr>\n",
       "  </thead>\n",
       "  <tbody>\n",
       "    <tr>\n",
       "      <th>Pará</th>\n",
       "      <td>0</td>\n",
       "      <td>1670</td>\n",
       "      <td>27588</td>\n",
       "      <td>132938</td>\n",
       "    </tr>\n",
       "    <tr>\n",
       "      <th>Bahia</th>\n",
       "      <td>0</td>\n",
       "      <td>1568</td>\n",
       "      <td>28777</td>\n",
       "      <td>188960</td>\n",
       "    </tr>\n",
       "    <tr>\n",
       "      <th>São Paulo</th>\n",
       "      <td>0</td>\n",
       "      <td>1772</td>\n",
       "      <td>52478</td>\n",
       "      <td>552310</td>\n",
       "    </tr>\n",
       "    <tr>\n",
       "      <th>Paraná</th>\n",
       "      <td>0</td>\n",
       "      <td>629</td>\n",
       "      <td>15958</td>\n",
       "      <td>146291</td>\n",
       "    </tr>\n",
       "    <tr>\n",
       "      <th>Goiás</th>\n",
       "      <td>0</td>\n",
       "      <td>474</td>\n",
       "      <td>11730</td>\n",
       "      <td>92768</td>\n",
       "    </tr>\n",
       "  </tbody>\n",
       "</table>\n",
       "</div>"
      ],
      "text/plain": [
       "                      Menor de 10 anos  10 a 14 anos  15 a 19 anos   Total\n",
       "Unidade da Federação                                                      \n",
       "Pará                                 0          1670         27588  132938\n",
       "Bahia                                0          1568         28777  188960\n",
       "São Paulo                            0          1772         52478  552310\n",
       "Paraná                               0           629         15958  146291\n",
       "Goiás                                0           474         11730   92768"
      ]
     },
     "execution_count": 82,
     "metadata": {},
     "output_type": "execute_result"
    }
   ],
   "source": [
    "pd.set_option('future.no_silent_downcasting', True)\n",
    "colunas_a_manter = ['Unidade da Federação', 'Menor de 10 anos', '10 a 14 anos', '15 a 19 anos', 'Total']\n",
    "dados_a_manter = [3, 8, 19, 23, 24, 29]\n",
    "dfs = []\n",
    "current_dir = os.getcwd()\n",
    "idh_dir = os.path.join(current_dir, 'IDHs')\n",
    "csv_files = glob(os.path.join(idh_dir, '*.csv')) \n",
    "for file in csv_files:\n",
    "    head = pd.read_csv(file, skiprows=3, nrows=1, encoding='cp1252', sep=';')\n",
    "    head = head.columns.to_list()\n",
    "    colunas_desejadas = [col for col in colunas_a_manter if col in head]\n",
    "    df = pd.read_csv(file, skiprows = lambda x: x not in dados_a_manter, encoding='cp1252', sep=';', usecols=colunas_desejadas)\n",
    "    if \"Menor de 10 anos\" not in df.columns:\n",
    "        df.insert(1, \"Menor de 10 anos\", 0)\n",
    "    df.replace(\"-\", 0, inplace=True)\n",
    "    df['Unidade da Federação'] = df['Unidade da Federação'].apply(lambda x: x[3:])\n",
    "    df.set_index('Unidade da Federação', inplace=True)\n",
    "    colunas_numericas = ['Menor de 10 anos', '10 a 14 anos', '15 a 19 anos', 'Total']\n",
    "    df[colunas_a_manter[1:]] = df[colunas_a_manter[1:]].apply(pd.to_numeric, errors='coerce')\n",
    "    dfs.append(df)\n",
    "dfs[1]\n"
   ]
  },
  {
   "cell_type": "code",
   "execution_count": 94,
   "metadata": {},
   "outputs": [
    {
     "data": {
      "text/plain": [
       "<Axes: title={'center': 'Distribuição Percentual por Faixa Etária'}>"
      ]
     },
     "execution_count": 94,
     "metadata": {},
     "output_type": "execute_result"
    },
    {
     "data": {
      "image/png": "[encoded data removed]",
      "text/plain": [
       "<Figure size 640x480 with 1 Axes>"
      ]
     },
     "metadata": {},
     "output_type": "display_data"
    }
   ],
   "source": [
    "df = dfs[0]\n",
    "\n",
    "# Calcular porcentagens\n",
    "df['Menor de 10 anos (%)'] = (df['Menor de 10 anos'] / df['Total']) * 100\n",
    "df['10 a 14 anos (%)'] = (df['10 a 14 anos'] / df['Total']) * 100\n",
    "df['15 a 19 anos (%)'] = (df['15 a 19 anos'] / df['Total']) * 100\n",
    "\n",
    "df_percent = df[['Menor de 10 anos (%)', '10 a 14 anos (%)', '15 a 19 anos (%)']]\n",
    "\n",
    "ax = df_percent.plot(kind='box', title='Distribuição Percentual por Faixa Etária')\n",
    "\n",
    "for container in ax.containers:\n",
    "    ax.bar_label(container, fmt='%.2f%%')\n",
    "    \n",
    "ax"
   ]
  }
 ],
 "metadata": {
  "kernelspec": {
   "display_name": "Python 3",
   "language": "python",
   "name": "python3"
  },
  "language_info": {
   "codemirror_mode": {
    "name": "ipython",
    "version": 3
   },
   "file_extension": ".py",
   "mimetype": "text/x-python",
   "name": "python",
   "nbconvert_exporter": "python",
   "pygments_lexer": "ipython3",
   "version": "3.12.2"
  }
 },
 "nbformat": 4,
 "nbformat_minor": 2
}
